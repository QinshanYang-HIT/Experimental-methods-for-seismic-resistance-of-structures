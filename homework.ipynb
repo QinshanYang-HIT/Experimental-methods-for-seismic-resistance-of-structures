{
 "cells": [
  {
   "cell_type": "code",
   "execution_count": 42,
   "id": "2bb166d5",
   "metadata": {
    "ExecuteTime": {
     "end_time": "2023-11-22T11:46:47.076199Z",
     "start_time": "2023-11-22T11:46:47.067200Z"
    }
   },
   "outputs": [],
   "source": [
    "import os\n",
    "\n",
    "import pandas as pd\n",
    "import numpy as np\n",
    "import scipy.signal as signal\n",
    "\n",
    "import matplotlib.pyplot as plt\n",
    "from matplotlib import rcParams"
   ]
  },
  {
   "cell_type": "code",
   "execution_count": 43,
   "id": "2a360df8",
   "metadata": {
    "ExecuteTime": {
     "end_time": "2023-11-22T11:46:47.374796Z",
     "start_time": "2023-11-22T11:46:47.369795Z"
    }
   },
   "outputs": [],
   "source": [
    "config = {\n",
    "    \"font.family\": 'Times New Roman',\n",
    "    \"axes.unicode_minus\": False,\n",
    "    \"font.size\": 12\n",
    "}\n",
    "rcParams.update(config)"
   ]
  },
  {
   "cell_type": "code",
   "execution_count": 44,
   "id": "ae794b05",
   "metadata": {
    "ExecuteTime": {
     "end_time": "2023-11-22T11:46:48.343092Z",
     "start_time": "2023-11-22T11:46:47.627106Z"
    }
   },
   "outputs": [],
   "source": [
    "sheet = pd.read_excel('data')\n",
    "data = sheet.astype('float32').T"
   ]
  },
  {
   "cell_type": "code",
   "execution_count": 45,
   "id": "35c8c3ef",
   "metadata": {
    "ExecuteTime": {
     "end_time": "2023-11-22T11:46:48.359098Z",
     "start_time": "2023-11-22T11:46:48.346092Z"
    }
   },
   "outputs": [],
   "source": [
    "time = data.iloc[0]\n",
    "dt = time[1] - time[0]\n",
    "n = len(time)"
   ]
  },
  {
   "cell_type": "code",
   "execution_count": 46,
   "id": "d38e1144",
   "metadata": {
    "ExecuteTime": {
     "end_time": "2023-11-22T11:46:48.375114Z",
     "start_time": "2023-11-22T11:46:48.360099Z"
    }
   },
   "outputs": [],
   "source": [
    "freq = np.fft.fftfreq(n, d=dt)  # 计算频率轴\n",
    "\n",
    "def calculate(row):\n",
    "    # 傅里叶变换\n",
    "    fft_result = np.fft.fft(row)\n",
    "    positive_freq_indices = np.where(freq >= 0)\n",
    "    positive_fft_result = fft_result[positive_freq_indices]\n",
    "\n",
    "\n",
    "    # 傅里叶变换结果的幅值谱\n",
    "    amplitude_spectrum = np.abs(fft_result)\n",
    "    positive_amplitude_spectrum = np.abs(positive_fft_result)\n",
    "    # 检索幅值谱峰值\n",
    "    peaks, _ = signal.find_peaks(positive_amplitude_spectrum)\n",
    "    # 获取最大峰值的索引\n",
    "    max_peak_index = np.argmax(positive_amplitude_spectrum[peaks])\n",
    "\n",
    "    # 获取最大峰值对应的频率和幅值\n",
    "    resonant_frequency = freq[peaks[max_peak_index]]\n",
    "    max_peak_amplitude = positive_amplitude_spectrum[peaks[max_peak_index]]\n",
    "    \n",
    "    return resonant_frequency, max_peak_amplitude, amplitude_spectrum"
   ]
  },
  {
   "cell_type": "code",
   "execution_count": 47,
   "id": "8834a65d",
   "metadata": {
    "ExecuteTime": {
     "end_time": "2023-11-22T11:46:48.469634Z",
     "start_time": "2023-11-22T11:46:48.451633Z"
    }
   },
   "outputs": [],
   "source": [
    "dict = {\n",
    "    1: 'Data 1', 2: 'Data 2', 3: 'Data 3', 4: 'Data 4', 5: 'Data 5', \n",
    "    6: 'Data 6', 7: 'Data 7', 8: 'Data 8', 9: 'Data 9', 10: 'Data 10',\n",
    "}"
   ]
  },
  {
   "cell_type": "code",
   "execution_count": 48,
   "id": "12eb0dca",
   "metadata": {
    "ExecuteTime": {
     "end_time": "2023-11-22T11:46:48.878797Z",
     "start_time": "2023-11-22T11:46:48.865798Z"
    }
   },
   "outputs": [],
   "source": [
    "def visualization1(resonant_frequency, max_peak_amplitude, amplitude_spectrum, label_index):   \n",
    "\n",
    "    label_value = dict[label_index]\n",
    "    \n",
    "    # 创建图形和坐标轴\n",
    "    fig, ax = plt.subplots()\n",
    "    # 绘制频谱图\n",
    "    ax.plot(freq[:n//2], amplitude_spectrum[:n//2], label= label_value)\n",
    "    ax.plot(resonant_frequency, max_peak_amplitude, 'ro', label='Peak Point')\n",
    "    \n",
    "    ax.xaxis.set_tick_params(direction='in')\n",
    "    ax.yaxis.set_tick_params(direction='in')\n",
    "\n",
    "    ax.set_xlabel('Frequency (Hz)')\n",
    "    ax.set_ylabel('Amplitude Spectrum')\n",
    "    ax.set_title('Fourier Transform', style='italic')\n",
    "\n",
    "    ax.legend()\n",
    "          \n",
    "    # 创建保存文件的文件夹\n",
    "    folder_name = 'result/fourier_transform'\n",
    "    if not os.path.exists(folder_name):\n",
    "        os.makedirs(folder_name)\n",
    "\n",
    "    # 保存图形到 result 文件夹\n",
    "    file_name = f'{folder_name}/FFT_{label_value}.png'\n",
    "    plt.savefig(file_name)\n",
    "    plt.close() # 注释该行可使图像显示"
   ]
  },
  {
   "cell_type": "code",
   "execution_count": 49,
   "id": "142dd652",
   "metadata": {
    "ExecuteTime": {
     "end_time": "2023-11-22T11:46:49.192875Z",
     "start_time": "2023-11-22T11:46:49.185872Z"
    }
   },
   "outputs": [],
   "source": [
    "def visualization2(result_peak, label_index):   \n",
    "\n",
    "    label_value = dict[label_index]\n",
    "\n",
    "    fig, ax = plt.subplots()\n",
    "    # 绘制时程图\n",
    "    ax.plot(time[:100], data.iloc[label_index][:100], label= label_value)\n",
    "    ax.plot(result_peak.iloc[label_index-1, 1], result_peak.iloc[label_index-1, 2], 'ro', label='Peak Point 1')\n",
    "    ax.plot(result_peak.iloc[label_index-1, 3], result_peak.iloc[label_index-1, 4], 'ro', label='Peak Point 2')\n",
    "\n",
    "    ax.xaxis.set_tick_params(direction='in')\n",
    "    ax.yaxis.set_tick_params(direction='in')\n",
    "\n",
    "    ax.set_xlabel('Time (s)')\n",
    "    ax.set_ylabel('Displacement (mm)')\n",
    "    ax.set_title('Time History Response', style='italic')\n",
    "\n",
    "    ax.legend()\n",
    "    \n",
    "    # 创建保存文件的文件夹\n",
    "    folder_name = 'result/time_history'\n",
    "    if not os.path.exists(folder_name):\n",
    "        os.makedirs(folder_name)\n",
    "\n",
    "    # 保存图形到 result 文件夹\n",
    "    file_name = f'{folder_name}/TH_{label_value}.png'\n",
    "    plt.savefig(file_name)\n",
    "    plt.close()# 注释该行可使图像显示"
   ]
  },
  {
   "cell_type": "code",
   "execution_count": 50,
   "id": "e9979017",
   "metadata": {
    "ExecuteTime": {
     "end_time": "2023-11-22T11:46:49.475566Z",
     "start_time": "2023-11-22T11:46:49.458554Z"
    }
   },
   "outputs": [],
   "source": [
    "def save_csv(file, file_name):\n",
    "    result_folder = 'result'\n",
    "    \n",
    "    result_file_path = os.path.join(result_folder, file_name)\n",
    "    file.to_csv(result_file_path, index=False)"
   ]
  },
  {
   "cell_type": "code",
   "execution_count": 58,
   "id": "8fa4f814",
   "metadata": {
    "ExecuteTime": {
     "end_time": "2023-11-22T11:50:25.192002Z",
     "start_time": "2023-11-22T11:50:25.172001Z"
    }
   },
   "outputs": [],
   "source": [
    "def extract_peaks(data, time):\n",
    "    # 找到波峰\n",
    "    peaks, _ = signal.find_peaks(data, height=0)\n",
    "\n",
    "    # 提取最初相邻两次波峰的具体值\n",
    "    first_two_peaks = data.iloc[peaks[:2]]\n",
    "    cor_time = time.iloc[peaks[:2]]\n",
    "    delta_t= cor_time.iloc[1] - cor_time.iloc[0]\n",
    "    frequency = 1 / delta_t\n",
    "    damping_ratio = np.log(first_two_peaks.iloc[0] / first_two_peaks.iloc[1]) / (2 * np.pi)\n",
    "    \n",
    "    return first_two_peaks, cor_time, frequency, damping_ratio"
   ]
  },
  {
   "cell_type": "code",
   "execution_count": 63,
   "id": "322291a4",
   "metadata": {
    "ExecuteTime": {
     "end_time": "2023-11-22T11:54:20.532796Z",
     "start_time": "2023-11-22T11:54:17.696959Z"
    }
   },
   "outputs": [],
   "source": [
    "result_df = pd.DataFrame(columns=['Label', 'Resonant Frequency'])  # 记录结构自振频率\n",
    "result_peak = pd.DataFrame(columns=['Label', 't1', 'y1', 't2', 'y2', 'damping_ratio', 'frequency']) # 记录结构阻尼比\n",
    "\n",
    "for i in range(1, 11):\n",
    "    resonant_frequency, max_peak_amplitude, amplitude_spectrum = calculate(data.iloc[i])\n",
    "    result_df = pd.concat([result_df, pd.DataFrame({'Label': [f'data{i}'], 'Resonant Frequency': [resonant_frequency]})], ignore_index=True)\n",
    "    visualization1(resonant_frequency, max_peak_amplitude, amplitude_spectrum, i)\n",
    "\n",
    "    peaks_data, peaks_time, frequency, damping_ratio = extract_peaks(data.iloc[i], data.iloc[0])\n",
    "    result_peak = pd.concat([result_peak, pd.DataFrame({'Label': [f'data{i}'],'t1': [peaks_time.iloc[0]], 'y1': [peaks_data.iloc[0]],\\\n",
    "                                                        't2': [peaks_time.iloc[1]], 'y2': [peaks_data.iloc[1]],\\\n",
    "                                                        'damping_ratio': [damping_ratio], 'frequency': [frequency]})],\\\n",
    "                                                        ignore_index=True)\n",
    "    visualization2(result_peak, i)\n",
    "    "
   ]
  },
  {
   "cell_type": "code",
   "execution_count": 64,
   "id": "6b19435a",
   "metadata": {
    "ExecuteTime": {
     "end_time": "2023-11-22T11:54:21.287168Z",
     "start_time": "2023-11-22T11:54:21.275106Z"
    }
   },
   "outputs": [],
   "source": [
    "save_csv(result_df, 'Resonant_frequency_table.csv')\n",
    "save_csv(result_peak, 'Damping_ratio_calculation_table.csv')"
   ]
  },
  {
   "cell_type": "code",
   "execution_count": null,
   "id": "8665cac6",
   "metadata": {},
   "outputs": [],
   "source": []
  }
 ],
 "metadata": {
  "kernelspec": {
   "display_name": "data_identification1",
   "language": "python",
   "name": "data_identification1_jupyter"
  },
  "language_info": {
   "codemirror_mode": {
    "name": "ipython",
    "version": 3
   },
   "file_extension": ".py",
   "mimetype": "text/x-python",
   "name": "python",
   "nbconvert_exporter": "python",
   "pygments_lexer": "ipython3",
   "version": "3.10.12"
  }
 },
 "nbformat": 4,
 "nbformat_minor": 5
}
